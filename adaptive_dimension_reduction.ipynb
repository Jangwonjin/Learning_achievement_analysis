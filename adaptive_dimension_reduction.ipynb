{
 "cells": [
  {
   "cell_type": "markdown",
   "metadata": {},
   "source": [
    "## Standardize the item response data"
   ]
  },
  {
   "cell_type": "code",
   "execution_count": 1,
   "metadata": {},
   "outputs": [],
   "source": [
    "import numpy as np\n",
    "import pandas as pd\n",
    "from sklearn.decomposition import PCA\n",
    "from sklearn.cluster import KMeans\n",
    "from sklearn.mixture import GaussianMixture\n",
    "from sklearn.metrics import silhouette_score\n",
    "\n",
    "from sklearn.discriminant_analysis import LinearDiscriminantAnalysis\n",
    "# https://scikit-learn.org/stable/modules/generated/sklearn.discriminant_analysis.LinearDiscriminantAnalysis.html\n",
    "# https://scikit-learn.org/stable/auto_examples/classification/plot_lda_qda.html#sphx-glr-auto-examples-classification-plot-lda-qda-py\n",
    "\n",
    "from sklearn.metrics import confusion_matrix\n",
    "\n",
    "from funcs import *\n",
    "from clustering import *\n",
    "from matplotlib import pyplot as plt\n",
    "%matplotlib inline\n",
    "%load_ext autoreload\n",
    "%autoreload 2"
   ]
  },
  {
   "cell_type": "code",
   "execution_count": 2,
   "metadata": {},
   "outputs": [],
   "source": [
    "# sort \n",
    "def sort_labels(labels, data):\n",
    "    num_cluster = np.max(labels) + 1\n",
    "    sorted_index = np.argsort([np.mean(np.mean(data[labels == i] ,axis=0)) for i in range(num_cluster)])[::-1]\n",
    "    sorted_labels = sort_categories_by_mean(labels, sorted_index)\n",
    "    \n",
    "    return sorted_labels"
   ]
  },
  {
   "cell_type": "code",
   "execution_count": 3,
   "metadata": {
    "scrolled": true
   },
   "outputs": [],
   "source": [
    "data = pd.read_excel('data/pretest_data.xlsx', index_col= '번호')"
   ]
  },
  {
   "cell_type": "code",
   "execution_count": 4,
   "metadata": {},
   "outputs": [],
   "source": [
    "response_data = np.array(data.drop(columns=['성적/10']))"
   ]
  },
  {
   "cell_type": "code",
   "execution_count": 5,
   "metadata": {},
   "outputs": [],
   "source": [
    "data_standardized = (response_data - np.mean(response_data, axis=0)) / np.std(response_data, axis=0)"
   ]
  },
  {
   "cell_type": "code",
   "execution_count": 6,
   "metadata": {},
   "outputs": [],
   "source": [
    "items_for_each_component = {'Repetition':[1],'Probability':[2,3],'Conditional_Probablity':[4,5],\n",
    "                            'Random_Variable':[6,7],'Probability_Distribution':[8,9],'Statistical_Estimation':[10]}"
   ]
  },
  {
   "cell_type": "code",
   "execution_count": 7,
   "metadata": {},
   "outputs": [],
   "source": [
    "# plt.imshow(response_data, cmap='gray')\n",
    "#data_standardized.shape"
   ]
  },
  {
   "cell_type": "code",
   "execution_count": null,
   "metadata": {},
   "outputs": [],
   "source": []
  },
  {
   "cell_type": "code",
   "execution_count": null,
   "metadata": {},
   "outputs": [],
   "source": []
  },
  {
   "cell_type": "code",
   "execution_count": null,
   "metadata": {},
   "outputs": [],
   "source": []
  },
  {
   "cell_type": "markdown",
   "metadata": {},
   "source": [
    "## Initialize using PCA & k-means"
   ]
  },
  {
   "cell_type": "code",
   "execution_count": 8,
   "metadata": {},
   "outputs": [
    {
     "name": "stdout",
     "output_type": "stream",
     "text": [
      "(95, 7)\n",
      "(95,)\n"
     ]
    }
   ],
   "source": [
    "# Number of clusters\n",
    "num_clusters = 4\n",
    "\n",
    "itr = 0\n",
    "all_labels = []\n",
    "\n",
    "fit_pca = PCA(n_components=7, random_state=0).fit_transform(data_standardized)\n",
    "print(fit_pca.shape)\n",
    "\n",
    "# clustering by k-means \n",
    "km_pca = KMeans(n_clusters=num_clusters, random_state=0).fit(fit_pca)\n",
    "\n",
    "labels = sort_labels(km_pca.labels_, data_standardized)\n",
    "print(labels.shape)\n",
    "\n",
    "all_labels.append(labels)\n"
   ]
  },
  {
   "cell_type": "markdown",
   "metadata": {},
   "source": [
    "## update by iterating LDA and k-means"
   ]
  },
  {
   "cell_type": "code",
   "execution_count": 9,
   "metadata": {},
   "outputs": [
    {
     "name": "stdout",
     "output_type": "stream",
     "text": [
      "[[26  0  1  0]\n",
      " [ 1 16  0  0]\n",
      " [ 0  0 19  1]\n",
      " [ 0  2  1 28]]\n",
      "[[24  0  1  2]\n",
      " [ 0 17  0  1]\n",
      " [ 0  0 21  0]\n",
      " [ 0  0  0 29]]\n",
      "[[ 6 18  0  0]\n",
      " [ 5  0 12  0]\n",
      " [ 0 22  0  0]\n",
      " [ 0  0  0 32]]\n",
      "[[11  0  0  0]\n",
      " [ 0 40  0  0]\n",
      " [ 0  0 12  0]\n",
      " [ 0  0  0 32]]\n",
      "[[11  0  0  0]\n",
      " [ 0 40  0  0]\n",
      " [ 0  0 12  0]\n",
      " [ 0  0  0 32]]\n"
     ]
    }
   ],
   "source": [
    "max_itr = 5\n",
    "\n",
    "lda = LinearDiscriminantAnalysis()\n",
    "km = KMeans(n_clusters=num_clusters, random_state=0)\n",
    "\n",
    "for itr in range(1, max_itr+1):\n",
    "    # 1. fit LDA with original (hig-dim) data and current label\n",
    "    lda.fit(data_standardized, labels)\n",
    "\n",
    "#     labels_lda = sort_labels(lda.predict(data_standardized), data_standardized)\n",
    "    \n",
    "#     # compare labels\n",
    "#     cm = confusion_matrix(labels, labels_lda)\n",
    "#     print(cm)\n",
    "\n",
    "    # 2. project using LDA\n",
    "    U = lda.coef_\n",
    "#     print(U.shape)\n",
    "\n",
    "    # normalize U\n",
    "    norm = np.sqrt(np.sum(U ** 2,axis=1)).reshape((-1,1))\n",
    "    U = U / norm\n",
    "\n",
    "    projected = np.dot(data_standardized, U.T)\n",
    "#     print(projected.shape)\n",
    "\n",
    "    # 3. k-means clustering\n",
    "    km_lda = km.fit(projected)\n",
    "\n",
    "    labels_lda_km = sort_labels(km_lda.labels_, data_standardized)\n",
    "\n",
    "    # compare labels\n",
    "    cm = confusion_matrix(labels, labels_lda_km)\n",
    "    print(cm)\n",
    "\n",
    "    labels = labels_lda_km"
   ]
  },
  {
   "cell_type": "code",
   "execution_count": null,
   "metadata": {},
   "outputs": [],
   "source": []
  },
  {
   "cell_type": "markdown",
   "metadata": {},
   "source": [
    "## [TODO] Visualize with `labels`"
   ]
  },
  {
   "cell_type": "code",
   "execution_count": null,
   "metadata": {},
   "outputs": [],
   "source": []
  }
 ],
 "metadata": {
  "kernelspec": {
   "display_name": "Python 3",
   "language": "python",
   "name": "python3"
  },
  "language_info": {
   "codemirror_mode": {
    "name": "ipython",
    "version": 3
   },
   "file_extension": ".py",
   "mimetype": "text/x-python",
   "name": "python",
   "nbconvert_exporter": "python",
   "pygments_lexer": "ipython3",
   "version": "3.7.6"
  }
 },
 "nbformat": 4,
 "nbformat_minor": 2
}
